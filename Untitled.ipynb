{
 "cells": [
  {
   "cell_type": "code",
   "execution_count": 1,
   "id": "abstract-transport",
   "metadata": {},
   "outputs": [],
   "source": [
    "# Bibliotecas básicas\n",
    "\n",
    "import numpy as np\n",
    "import matplotlib.pyplot as plt\n",
    "\n",
    "# Módulos do snappy\n",
    "\n",
    "from snappy import ProductIO # Módulo para leitura e escrita de arquivos (produtos)\n",
    "from snappy import HashMap # Java Hashmap, objeto equivalente a um dicionário do Python\n",
    "from snappy import GPF # Graph Processing Framework, utilizado para \"chamar\" os operadores\n",
    "from snappy import jpy # biblioteca que faz a ponte entre o Python e a API em Java"
   ]
  },
  {
   "cell_type": "code",
   "execution_count": 2,
   "id": "greek-fellow",
   "metadata": {},
   "outputs": [],
   "source": [
    "# Leitura da imagem salva anteriormente\n",
    "\n",
    "imagem = ProductIO.readProduct('C:/Users/jales/Desktop/S1/S1A_jn/Sigma0_VH_db.hdr')"
   ]
  },
  {
   "cell_type": "code",
   "execution_count": null,
   "id": "improved-question",
   "metadata": {},
   "outputs": [],
   "source": [
    "# Histograma da imagem processada\n",
    "\n",
    "band = imagem.getBand('Sigma0_VH_db')\n",
    "\n",
    "w = band.getRasterWidth()\n",
    "h = band.getRasterHeight()\n",
    "\n",
    "band_data = np.zeros(w * h, np.float32)\n",
    "band.readPixels(0, 0, w, h, band_data)\n",
    "band_data.shape = h, w\n",
    "\n",
    "histogram = plt.hist(np.asarray(band_data, dtype='float'), bins=2800, range=[-31, -5])\n",
    "\n",
    "plt.show()"
   ]
  },
  {
   "cell_type": "code",
   "execution_count": null,
   "id": "personalized-quest",
   "metadata": {},
   "outputs": [],
   "source": []
  }
 ],
 "metadata": {
  "kernelspec": {
   "display_name": "Python 3",
   "language": "python",
   "name": "python3"
  },
  "language_info": {
   "codemirror_mode": {
    "name": "ipython",
    "version": 3
   },
   "file_extension": ".py",
   "mimetype": "text/x-python",
   "name": "python",
   "nbconvert_exporter": "python",
   "pygments_lexer": "ipython3",
   "version": "3.6.12"
  }
 },
 "nbformat": 4,
 "nbformat_minor": 5
}
